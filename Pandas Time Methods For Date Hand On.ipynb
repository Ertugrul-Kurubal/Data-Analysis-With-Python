{
 "metadata": {
  "language_info": {
   "codemirror_mode": {
    "name": "ipython",
    "version": 3
   },
   "file_extension": ".py",
   "mimetype": "text/x-python",
   "name": "python",
   "nbconvert_exporter": "python",
   "pygments_lexer": "ipython3",
   "version": "3.9.0-final"
  },
  "orig_nbformat": 2,
  "kernelspec": {
   "name": "python3",
   "display_name": "Python 3.9.0 64-bit",
   "metadata": {
    "interpreter": {
     "hash": "43a9cd95aa030499ef934e4da31e07dde54f3fc3a1fd0cc4aeef7f16459ee2ac"
    }
   }
  }
 },
 "nbformat": 4,
 "nbformat_minor": 2,
 "cells": [
  {
   "cell_type": "code",
   "execution_count": 2,
   "metadata": {},
   "outputs": [],
   "source": [
    "import numpy as np \n",
    "import pandas as pd\n",
    "from datetime import datetime"
   ]
  },
  {
   "cell_type": "code",
   "execution_count": 4,
   "metadata": {},
   "outputs": [],
   "source": [
    "myyear = 2015\n",
    "mymonth = 1\n",
    "myday = 1\n",
    "myhour = 2\n",
    "mymin = 30\n",
    "mysec = 15\n"
   ]
  },
  {
   "cell_type": "code",
   "execution_count": 6,
   "metadata": {},
   "outputs": [],
   "source": [
    "mydatetime = datetime(myyear,mymonth,myday)"
   ]
  },
  {
   "cell_type": "code",
   "execution_count": 7,
   "metadata": {},
   "outputs": [
    {
     "output_type": "execute_result",
     "data": {
      "text/plain": [
       "datetime.datetime(2015, 1, 1, 0, 0)"
      ]
     },
     "metadata": {},
     "execution_count": 7
    }
   ],
   "source": [
    "mydatetime"
   ]
  },
  {
   "cell_type": "code",
   "execution_count": 8,
   "metadata": {},
   "outputs": [
    {
     "output_type": "execute_result",
     "data": {
      "text/plain": [
       "2015"
      ]
     },
     "metadata": {},
     "execution_count": 8
    }
   ],
   "source": [
    "mydatetime.year"
   ]
  },
  {
   "cell_type": "code",
   "execution_count": 9,
   "metadata": {},
   "outputs": [],
   "source": [
    "myser = pd.Series([\"Nov 3, 1990\",\"2000-01-01\",None])"
   ]
  },
  {
   "cell_type": "code",
   "execution_count": 10,
   "metadata": {},
   "outputs": [
    {
     "output_type": "execute_result",
     "data": {
      "text/plain": [
       "0    Nov 3, 1990\n",
       "1     2000-01-01\n",
       "2           None\n",
       "dtype: object"
      ]
     },
     "metadata": {},
     "execution_count": 10
    }
   ],
   "source": [
    "myser"
   ]
  },
  {
   "cell_type": "code",
   "execution_count": 13,
   "metadata": {},
   "outputs": [
    {
     "output_type": "execute_result",
     "data": {
      "text/plain": [
       "'Nov 3, 1990'"
      ]
     },
     "metadata": {},
     "execution_count": 13
    }
   ],
   "source": [
    "myser[0]"
   ]
  },
  {
   "cell_type": "code",
   "execution_count": 14,
   "metadata": {},
   "outputs": [
    {
     "output_type": "error",
     "ename": "AttributeError",
     "evalue": "'str' object has no attribute 'year'",
     "traceback": [
      "\u001b[1;31m---------------------------------------------------------------------------\u001b[0m",
      "\u001b[1;31mAttributeError\u001b[0m                            Traceback (most recent call last)",
      "\u001b[1;32m<ipython-input-14-48a9817b80e5>\u001b[0m in \u001b[0;36m<module>\u001b[1;34m\u001b[0m\n\u001b[1;32m----> 1\u001b[1;33m \u001b[0mmyser\u001b[0m\u001b[1;33m[\u001b[0m\u001b[1;36m0\u001b[0m\u001b[1;33m]\u001b[0m\u001b[1;33m.\u001b[0m\u001b[0myear\u001b[0m\u001b[1;33m\u001b[0m\u001b[1;33m\u001b[0m\u001b[0m\n\u001b[0m",
      "\u001b[1;31mAttributeError\u001b[0m: 'str' object has no attribute 'year'"
     ]
    }
   ],
   "source": [
    "myser[0].year"
   ]
  },
  {
   "cell_type": "code",
   "execution_count": 15,
   "metadata": {},
   "outputs": [
    {
     "output_type": "execute_result",
     "data": {
      "text/plain": [
       "0   1990-11-03\n",
       "1   2000-01-01\n",
       "2          NaT\n",
       "dtype: datetime64[ns]"
      ]
     },
     "metadata": {},
     "execution_count": 15
    }
   ],
   "source": [
    "pd.to_datetime(myser)"
   ]
  },
  {
   "cell_type": "code",
   "execution_count": 16,
   "metadata": {},
   "outputs": [],
   "source": [
    "timeser = pd.to_datetime(myser)"
   ]
  },
  {
   "cell_type": "code",
   "execution_count": 17,
   "metadata": {},
   "outputs": [
    {
     "output_type": "execute_result",
     "data": {
      "text/plain": [
       "1990"
      ]
     },
     "metadata": {},
     "execution_count": 17
    }
   ],
   "source": [
    "timeser[0].year"
   ]
  },
  {
   "cell_type": "code",
   "execution_count": 23,
   "metadata": {},
   "outputs": [],
   "source": [
    "obvi_euro_date = \"31-12-2000\""
   ]
  },
  {
   "cell_type": "code",
   "execution_count": 24,
   "metadata": {},
   "outputs": [
    {
     "output_type": "execute_result",
     "data": {
      "text/plain": [
       "Timestamp('2000-12-31 00:00:00')"
      ]
     },
     "metadata": {},
     "execution_count": 24
    }
   ],
   "source": [
    "pd.to_datetime(obvi_euro_date)"
   ]
  },
  {
   "cell_type": "code",
   "execution_count": 20,
   "metadata": {},
   "outputs": [],
   "source": [
    "euro_date = \"10-12-2000\""
   ]
  },
  {
   "cell_type": "code",
   "execution_count": 21,
   "metadata": {},
   "outputs": [
    {
     "output_type": "execute_result",
     "data": {
      "text/plain": [
       "Timestamp('2000-10-12 00:00:00')"
      ]
     },
     "metadata": {},
     "execution_count": 21
    }
   ],
   "source": [
    "pd.to_datetime(euro_date)"
   ]
  },
  {
   "cell_type": "code",
   "execution_count": 48,
   "metadata": {},
   "outputs": [
    {
     "output_type": "execute_result",
     "data": {
      "text/plain": [
       "Timestamp('2000-12-10 00:00:00')"
      ]
     },
     "metadata": {},
     "execution_count": 48
    }
   ],
   "source": [
    "pd.to_datetime(euro_date,dayfirst=True)"
   ]
  },
  {
   "cell_type": "code",
   "execution_count": 25,
   "metadata": {},
   "outputs": [],
   "source": [
    "style_date = \"12--Dec--2000\""
   ]
  },
  {
   "cell_type": "code",
   "execution_count": 26,
   "metadata": {},
   "outputs": [
    {
     "output_type": "execute_result",
     "data": {
      "text/plain": [
       "Timestamp('2000-12-12 00:00:00')"
      ]
     },
     "metadata": {},
     "execution_count": 26
    }
   ],
   "source": [
    "pd.to_datetime(style_date, format=\"%d--%b--%Y\")"
   ]
  },
  {
   "cell_type": "code",
   "execution_count": 27,
   "metadata": {},
   "outputs": [],
   "source": [
    "custom_date = \"12th of Dec 2000\""
   ]
  },
  {
   "cell_type": "code",
   "execution_count": 28,
   "metadata": {},
   "outputs": [
    {
     "output_type": "execute_result",
     "data": {
      "text/plain": [
       "Timestamp('2000-12-12 00:00:00')"
      ]
     },
     "metadata": {},
     "execution_count": 28
    }
   ],
   "source": [
    "pd.to_datetime(custom_date)"
   ]
  },
  {
   "cell_type": "code",
   "execution_count": 29,
   "metadata": {},
   "outputs": [],
   "source": [
    "sales = pd.read_csv(\"RetailSales_BeerWineLiquor.csv\")"
   ]
  },
  {
   "cell_type": "code",
   "execution_count": 30,
   "metadata": {},
   "outputs": [
    {
     "output_type": "execute_result",
     "data": {
      "text/plain": [
       "           DATE  MRTSSM4453USN\n",
       "0    1992-01-01           1509\n",
       "1    1992-02-01           1541\n",
       "2    1992-03-01           1597\n",
       "3    1992-04-01           1675\n",
       "4    1992-05-01           1822\n",
       "..          ...            ...\n",
       "335  2019-12-01           6630\n",
       "336  2020-01-01           4388\n",
       "337  2020-02-01           4533\n",
       "338  2020-03-01           5562\n",
       "339  2020-04-01           5207\n",
       "\n",
       "[340 rows x 2 columns]"
      ],
      "text/html": "<div>\n<style scoped>\n    .dataframe tbody tr th:only-of-type {\n        vertical-align: middle;\n    }\n\n    .dataframe tbody tr th {\n        vertical-align: top;\n    }\n\n    .dataframe thead th {\n        text-align: right;\n    }\n</style>\n<table border=\"1\" class=\"dataframe\">\n  <thead>\n    <tr style=\"text-align: right;\">\n      <th></th>\n      <th>DATE</th>\n      <th>MRTSSM4453USN</th>\n    </tr>\n  </thead>\n  <tbody>\n    <tr>\n      <th>0</th>\n      <td>1992-01-01</td>\n      <td>1509</td>\n    </tr>\n    <tr>\n      <th>1</th>\n      <td>1992-02-01</td>\n      <td>1541</td>\n    </tr>\n    <tr>\n      <th>2</th>\n      <td>1992-03-01</td>\n      <td>1597</td>\n    </tr>\n    <tr>\n      <th>3</th>\n      <td>1992-04-01</td>\n      <td>1675</td>\n    </tr>\n    <tr>\n      <th>4</th>\n      <td>1992-05-01</td>\n      <td>1822</td>\n    </tr>\n    <tr>\n      <th>...</th>\n      <td>...</td>\n      <td>...</td>\n    </tr>\n    <tr>\n      <th>335</th>\n      <td>2019-12-01</td>\n      <td>6630</td>\n    </tr>\n    <tr>\n      <th>336</th>\n      <td>2020-01-01</td>\n      <td>4388</td>\n    </tr>\n    <tr>\n      <th>337</th>\n      <td>2020-02-01</td>\n      <td>4533</td>\n    </tr>\n    <tr>\n      <th>338</th>\n      <td>2020-03-01</td>\n      <td>5562</td>\n    </tr>\n    <tr>\n      <th>339</th>\n      <td>2020-04-01</td>\n      <td>5207</td>\n    </tr>\n  </tbody>\n</table>\n<p>340 rows × 2 columns</p>\n</div>"
     },
     "metadata": {},
     "execution_count": 30
    }
   ],
   "source": [
    "sales"
   ]
  },
  {
   "cell_type": "code",
   "execution_count": 31,
   "metadata": {},
   "outputs": [
    {
     "output_type": "execute_result",
     "data": {
      "text/plain": [
       "0      1992-01-01\n",
       "1      1992-02-01\n",
       "2      1992-03-01\n",
       "3      1992-04-01\n",
       "4      1992-05-01\n",
       "          ...    \n",
       "335    2019-12-01\n",
       "336    2020-01-01\n",
       "337    2020-02-01\n",
       "338    2020-03-01\n",
       "339    2020-04-01\n",
       "Name: DATE, Length: 340, dtype: object"
      ]
     },
     "metadata": {},
     "execution_count": 31
    }
   ],
   "source": [
    "sales[\"DATE\"]"
   ]
  },
  {
   "cell_type": "code",
   "execution_count": 32,
   "metadata": {},
   "outputs": [],
   "source": [
    "sales[\"DATE\"] = pd.to_datetime(sales[\"DATE\"])"
   ]
  },
  {
   "cell_type": "code",
   "execution_count": 33,
   "metadata": {},
   "outputs": [
    {
     "output_type": "execute_result",
     "data": {
      "text/plain": [
       "          DATE  MRTSSM4453USN\n",
       "0   1992-01-01           1509\n",
       "1   1992-02-01           1541\n",
       "2   1992-03-01           1597\n",
       "3   1992-04-01           1675\n",
       "4   1992-05-01           1822\n",
       "..         ...            ...\n",
       "335 2019-12-01           6630\n",
       "336 2020-01-01           4388\n",
       "337 2020-02-01           4533\n",
       "338 2020-03-01           5562\n",
       "339 2020-04-01           5207\n",
       "\n",
       "[340 rows x 2 columns]"
      ],
      "text/html": "<div>\n<style scoped>\n    .dataframe tbody tr th:only-of-type {\n        vertical-align: middle;\n    }\n\n    .dataframe tbody tr th {\n        vertical-align: top;\n    }\n\n    .dataframe thead th {\n        text-align: right;\n    }\n</style>\n<table border=\"1\" class=\"dataframe\">\n  <thead>\n    <tr style=\"text-align: right;\">\n      <th></th>\n      <th>DATE</th>\n      <th>MRTSSM4453USN</th>\n    </tr>\n  </thead>\n  <tbody>\n    <tr>\n      <th>0</th>\n      <td>1992-01-01</td>\n      <td>1509</td>\n    </tr>\n    <tr>\n      <th>1</th>\n      <td>1992-02-01</td>\n      <td>1541</td>\n    </tr>\n    <tr>\n      <th>2</th>\n      <td>1992-03-01</td>\n      <td>1597</td>\n    </tr>\n    <tr>\n      <th>3</th>\n      <td>1992-04-01</td>\n      <td>1675</td>\n    </tr>\n    <tr>\n      <th>4</th>\n      <td>1992-05-01</td>\n      <td>1822</td>\n    </tr>\n    <tr>\n      <th>...</th>\n      <td>...</td>\n      <td>...</td>\n    </tr>\n    <tr>\n      <th>335</th>\n      <td>2019-12-01</td>\n      <td>6630</td>\n    </tr>\n    <tr>\n      <th>336</th>\n      <td>2020-01-01</td>\n      <td>4388</td>\n    </tr>\n    <tr>\n      <th>337</th>\n      <td>2020-02-01</td>\n      <td>4533</td>\n    </tr>\n    <tr>\n      <th>338</th>\n      <td>2020-03-01</td>\n      <td>5562</td>\n    </tr>\n    <tr>\n      <th>339</th>\n      <td>2020-04-01</td>\n      <td>5207</td>\n    </tr>\n  </tbody>\n</table>\n<p>340 rows × 2 columns</p>\n</div>"
     },
     "metadata": {},
     "execution_count": 33
    }
   ],
   "source": [
    "sales"
   ]
  },
  {
   "cell_type": "code",
   "execution_count": 34,
   "metadata": {},
   "outputs": [
    {
     "output_type": "execute_result",
     "data": {
      "text/plain": [
       "Timestamp('1992-01-01 00:00:00')"
      ]
     },
     "metadata": {},
     "execution_count": 34
    }
   ],
   "source": [
    "sales[\"DATE\"][0]"
   ]
  },
  {
   "cell_type": "code",
   "execution_count": 35,
   "metadata": {},
   "outputs": [
    {
     "output_type": "execute_result",
     "data": {
      "text/plain": [
       "1992"
      ]
     },
     "metadata": {},
     "execution_count": 35
    }
   ],
   "source": [
    "sales[\"DATE\"][0].year"
   ]
  },
  {
   "cell_type": "code",
   "execution_count": 36,
   "metadata": {},
   "outputs": [
    {
     "output_type": "execute_result",
     "data": {
      "text/plain": [
       "        DATE  MRTSSM4453USN\n",
       "0 1992-01-01           1509\n",
       "1 1992-02-01           1541\n",
       "2 1992-03-01           1597\n",
       "3 1992-04-01           1675\n",
       "4 1992-05-01           1822"
      ],
      "text/html": "<div>\n<style scoped>\n    .dataframe tbody tr th:only-of-type {\n        vertical-align: middle;\n    }\n\n    .dataframe tbody tr th {\n        vertical-align: top;\n    }\n\n    .dataframe thead th {\n        text-align: right;\n    }\n</style>\n<table border=\"1\" class=\"dataframe\">\n  <thead>\n    <tr style=\"text-align: right;\">\n      <th></th>\n      <th>DATE</th>\n      <th>MRTSSM4453USN</th>\n    </tr>\n  </thead>\n  <tbody>\n    <tr>\n      <th>0</th>\n      <td>1992-01-01</td>\n      <td>1509</td>\n    </tr>\n    <tr>\n      <th>1</th>\n      <td>1992-02-01</td>\n      <td>1541</td>\n    </tr>\n    <tr>\n      <th>2</th>\n      <td>1992-03-01</td>\n      <td>1597</td>\n    </tr>\n    <tr>\n      <th>3</th>\n      <td>1992-04-01</td>\n      <td>1675</td>\n    </tr>\n    <tr>\n      <th>4</th>\n      <td>1992-05-01</td>\n      <td>1822</td>\n    </tr>\n  </tbody>\n</table>\n</div>"
     },
     "metadata": {},
     "execution_count": 36
    }
   ],
   "source": [
    "sales.head()"
   ]
  },
  {
   "cell_type": "code",
   "execution_count": 37,
   "metadata": {},
   "outputs": [],
   "source": [
    "sales = pd.read_csv(\"RetailSales_BeerWineLiquor.csv\",parse_dates=[0])"
   ]
  },
  {
   "cell_type": "code",
   "execution_count": 38,
   "metadata": {},
   "outputs": [
    {
     "output_type": "execute_result",
     "data": {
      "text/plain": [
       "0     1992-01-01\n",
       "1     1992-02-01\n",
       "2     1992-03-01\n",
       "3     1992-04-01\n",
       "4     1992-05-01\n",
       "         ...    \n",
       "335   2019-12-01\n",
       "336   2020-01-01\n",
       "337   2020-02-01\n",
       "338   2020-03-01\n",
       "339   2020-04-01\n",
       "Name: DATE, Length: 340, dtype: datetime64[ns]"
      ]
     },
     "metadata": {},
     "execution_count": 38
    }
   ],
   "source": [
    "sales[\"DATE\"]"
   ]
  },
  {
   "cell_type": "code",
   "execution_count": 39,
   "metadata": {},
   "outputs": [
    {
     "output_type": "execute_result",
     "data": {
      "text/plain": [
       "          DATE  MRTSSM4453USN\n",
       "0   1992-01-01           1509\n",
       "1   1992-02-01           1541\n",
       "2   1992-03-01           1597\n",
       "3   1992-04-01           1675\n",
       "4   1992-05-01           1822\n",
       "..         ...            ...\n",
       "335 2019-12-01           6630\n",
       "336 2020-01-01           4388\n",
       "337 2020-02-01           4533\n",
       "338 2020-03-01           5562\n",
       "339 2020-04-01           5207\n",
       "\n",
       "[340 rows x 2 columns]"
      ],
      "text/html": "<div>\n<style scoped>\n    .dataframe tbody tr th:only-of-type {\n        vertical-align: middle;\n    }\n\n    .dataframe tbody tr th {\n        vertical-align: top;\n    }\n\n    .dataframe thead th {\n        text-align: right;\n    }\n</style>\n<table border=\"1\" class=\"dataframe\">\n  <thead>\n    <tr style=\"text-align: right;\">\n      <th></th>\n      <th>DATE</th>\n      <th>MRTSSM4453USN</th>\n    </tr>\n  </thead>\n  <tbody>\n    <tr>\n      <th>0</th>\n      <td>1992-01-01</td>\n      <td>1509</td>\n    </tr>\n    <tr>\n      <th>1</th>\n      <td>1992-02-01</td>\n      <td>1541</td>\n    </tr>\n    <tr>\n      <th>2</th>\n      <td>1992-03-01</td>\n      <td>1597</td>\n    </tr>\n    <tr>\n      <th>3</th>\n      <td>1992-04-01</td>\n      <td>1675</td>\n    </tr>\n    <tr>\n      <th>4</th>\n      <td>1992-05-01</td>\n      <td>1822</td>\n    </tr>\n    <tr>\n      <th>...</th>\n      <td>...</td>\n      <td>...</td>\n    </tr>\n    <tr>\n      <th>335</th>\n      <td>2019-12-01</td>\n      <td>6630</td>\n    </tr>\n    <tr>\n      <th>336</th>\n      <td>2020-01-01</td>\n      <td>4388</td>\n    </tr>\n    <tr>\n      <th>337</th>\n      <td>2020-02-01</td>\n      <td>4533</td>\n    </tr>\n    <tr>\n      <th>338</th>\n      <td>2020-03-01</td>\n      <td>5562</td>\n    </tr>\n    <tr>\n      <th>339</th>\n      <td>2020-04-01</td>\n      <td>5207</td>\n    </tr>\n  </tbody>\n</table>\n<p>340 rows × 2 columns</p>\n</div>"
     },
     "metadata": {},
     "execution_count": 39
    }
   ],
   "source": [
    "sales"
   ]
  },
  {
   "cell_type": "code",
   "execution_count": 40,
   "metadata": {},
   "outputs": [],
   "source": [
    "sales = sales.set_index(\"DATE\")"
   ]
  },
  {
   "cell_type": "code",
   "execution_count": 42,
   "metadata": {},
   "outputs": [
    {
     "output_type": "execute_result",
     "data": {
      "text/plain": [
       "            MRTSSM4453USN\n",
       "DATE                     \n",
       "1992-12-31    1807.250000\n",
       "1993-12-31    1794.833333\n",
       "1994-12-31    1841.750000\n",
       "1995-12-31    1833.916667\n",
       "1996-12-31    1929.750000\n",
       "1997-12-31    2006.750000\n",
       "1998-12-31    2115.166667\n",
       "1999-12-31    2206.333333\n",
       "2000-12-31    2375.583333\n",
       "2001-12-31    2468.416667\n",
       "2002-12-31    2491.166667\n",
       "2003-12-31    2539.083333\n",
       "2004-12-31    2682.416667\n",
       "2005-12-31    2797.250000\n",
       "2006-12-31    3001.333333\n",
       "2007-12-31    3177.333333\n",
       "2008-12-31    3292.000000\n",
       "2009-12-31    3353.750000\n",
       "2010-12-31    3450.083333\n",
       "2011-12-31    3532.666667\n",
       "2012-12-31    3697.083333\n",
       "2013-12-31    3839.666667\n",
       "2014-12-31    4023.833333\n",
       "2015-12-31    4212.500000\n",
       "2016-12-31    4434.416667\n",
       "2017-12-31    4602.666667\n",
       "2018-12-31    4830.666667\n",
       "2019-12-31    4972.750000\n",
       "2020-12-31    4922.500000"
      ],
      "text/html": "<div>\n<style scoped>\n    .dataframe tbody tr th:only-of-type {\n        vertical-align: middle;\n    }\n\n    .dataframe tbody tr th {\n        vertical-align: top;\n    }\n\n    .dataframe thead th {\n        text-align: right;\n    }\n</style>\n<table border=\"1\" class=\"dataframe\">\n  <thead>\n    <tr style=\"text-align: right;\">\n      <th></th>\n      <th>MRTSSM4453USN</th>\n    </tr>\n    <tr>\n      <th>DATE</th>\n      <th></th>\n    </tr>\n  </thead>\n  <tbody>\n    <tr>\n      <th>1992-12-31</th>\n      <td>1807.250000</td>\n    </tr>\n    <tr>\n      <th>1993-12-31</th>\n      <td>1794.833333</td>\n    </tr>\n    <tr>\n      <th>1994-12-31</th>\n      <td>1841.750000</td>\n    </tr>\n    <tr>\n      <th>1995-12-31</th>\n      <td>1833.916667</td>\n    </tr>\n    <tr>\n      <th>1996-12-31</th>\n      <td>1929.750000</td>\n    </tr>\n    <tr>\n      <th>1997-12-31</th>\n      <td>2006.750000</td>\n    </tr>\n    <tr>\n      <th>1998-12-31</th>\n      <td>2115.166667</td>\n    </tr>\n    <tr>\n      <th>1999-12-31</th>\n      <td>2206.333333</td>\n    </tr>\n    <tr>\n      <th>2000-12-31</th>\n      <td>2375.583333</td>\n    </tr>\n    <tr>\n      <th>2001-12-31</th>\n      <td>2468.416667</td>\n    </tr>\n    <tr>\n      <th>2002-12-31</th>\n      <td>2491.166667</td>\n    </tr>\n    <tr>\n      <th>2003-12-31</th>\n      <td>2539.083333</td>\n    </tr>\n    <tr>\n      <th>2004-12-31</th>\n      <td>2682.416667</td>\n    </tr>\n    <tr>\n      <th>2005-12-31</th>\n      <td>2797.250000</td>\n    </tr>\n    <tr>\n      <th>2006-12-31</th>\n      <td>3001.333333</td>\n    </tr>\n    <tr>\n      <th>2007-12-31</th>\n      <td>3177.333333</td>\n    </tr>\n    <tr>\n      <th>2008-12-31</th>\n      <td>3292.000000</td>\n    </tr>\n    <tr>\n      <th>2009-12-31</th>\n      <td>3353.750000</td>\n    </tr>\n    <tr>\n      <th>2010-12-31</th>\n      <td>3450.083333</td>\n    </tr>\n    <tr>\n      <th>2011-12-31</th>\n      <td>3532.666667</td>\n    </tr>\n    <tr>\n      <th>2012-12-31</th>\n      <td>3697.083333</td>\n    </tr>\n    <tr>\n      <th>2013-12-31</th>\n      <td>3839.666667</td>\n    </tr>\n    <tr>\n      <th>2014-12-31</th>\n      <td>4023.833333</td>\n    </tr>\n    <tr>\n      <th>2015-12-31</th>\n      <td>4212.500000</td>\n    </tr>\n    <tr>\n      <th>2016-12-31</th>\n      <td>4434.416667</td>\n    </tr>\n    <tr>\n      <th>2017-12-31</th>\n      <td>4602.666667</td>\n    </tr>\n    <tr>\n      <th>2018-12-31</th>\n      <td>4830.666667</td>\n    </tr>\n    <tr>\n      <th>2019-12-31</th>\n      <td>4972.750000</td>\n    </tr>\n    <tr>\n      <th>2020-12-31</th>\n      <td>4922.500000</td>\n    </tr>\n  </tbody>\n</table>\n</div>"
     },
     "metadata": {},
     "execution_count": 42
    }
   ],
   "source": [
    "sales.resample(rule=\"A\").mean()"
   ]
  },
  {
   "cell_type": "code",
   "execution_count": 43,
   "metadata": {},
   "outputs": [],
   "source": [
    "sales = pd.read_csv(\"RetailSales_BeerWineLiquor.csv\",parse_dates=[0])"
   ]
  },
  {
   "cell_type": "code",
   "execution_count": 44,
   "metadata": {},
   "outputs": [
    {
     "output_type": "execute_result",
     "data": {
      "text/plain": [
       "        DATE  MRTSSM4453USN\n",
       "0 1992-01-01           1509\n",
       "1 1992-02-01           1541\n",
       "2 1992-03-01           1597\n",
       "3 1992-04-01           1675\n",
       "4 1992-05-01           1822"
      ],
      "text/html": "<div>\n<style scoped>\n    .dataframe tbody tr th:only-of-type {\n        vertical-align: middle;\n    }\n\n    .dataframe tbody tr th {\n        vertical-align: top;\n    }\n\n    .dataframe thead th {\n        text-align: right;\n    }\n</style>\n<table border=\"1\" class=\"dataframe\">\n  <thead>\n    <tr style=\"text-align: right;\">\n      <th></th>\n      <th>DATE</th>\n      <th>MRTSSM4453USN</th>\n    </tr>\n  </thead>\n  <tbody>\n    <tr>\n      <th>0</th>\n      <td>1992-01-01</td>\n      <td>1509</td>\n    </tr>\n    <tr>\n      <th>1</th>\n      <td>1992-02-01</td>\n      <td>1541</td>\n    </tr>\n    <tr>\n      <th>2</th>\n      <td>1992-03-01</td>\n      <td>1597</td>\n    </tr>\n    <tr>\n      <th>3</th>\n      <td>1992-04-01</td>\n      <td>1675</td>\n    </tr>\n    <tr>\n      <th>4</th>\n      <td>1992-05-01</td>\n      <td>1822</td>\n    </tr>\n  </tbody>\n</table>\n</div>"
     },
     "metadata": {},
     "execution_count": 44
    }
   ],
   "source": [
    "sales.head()"
   ]
  },
  {
   "cell_type": "code",
   "execution_count": 45,
   "metadata": {},
   "outputs": [
    {
     "output_type": "stream",
     "name": "stdout",
     "text": [
      "<class 'pandas.core.frame.DataFrame'>\nRangeIndex: 340 entries, 0 to 339\nData columns (total 2 columns):\n #   Column         Non-Null Count  Dtype         \n---  ------         --------------  -----         \n 0   DATE           340 non-null    datetime64[ns]\n 1   MRTSSM4453USN  340 non-null    int64         \ndtypes: datetime64[ns](1), int64(1)\nmemory usage: 5.4 KB\n"
     ]
    }
   ],
   "source": [
    "sales.info()"
   ]
  },
  {
   "cell_type": "code",
   "execution_count": 46,
   "metadata": {},
   "outputs": [
    {
     "output_type": "execute_result",
     "data": {
      "text/plain": [
       "0      1992\n",
       "1      1992\n",
       "2      1992\n",
       "3      1992\n",
       "4      1992\n",
       "       ... \n",
       "335    2019\n",
       "336    2020\n",
       "337    2020\n",
       "338    2020\n",
       "339    2020\n",
       "Name: DATE, Length: 340, dtype: int64"
      ]
     },
     "metadata": {},
     "execution_count": 46
    }
   ],
   "source": [
    "sales[\"DATE\"].dt.year"
   ]
  },
  {
   "cell_type": "code",
   "execution_count": 47,
   "metadata": {},
   "outputs": [
    {
     "output_type": "execute_result",
     "data": {
      "text/plain": [
       "0       1\n",
       "1       2\n",
       "2       3\n",
       "3       4\n",
       "4       5\n",
       "       ..\n",
       "335    12\n",
       "336     1\n",
       "337     2\n",
       "338     3\n",
       "339     4\n",
       "Name: DATE, Length: 340, dtype: int64"
      ]
     },
     "metadata": {},
     "execution_count": 47
    }
   ],
   "source": [
    "sales[\"DATE\"].dt.month"
   ]
  },
  {
   "cell_type": "code",
   "execution_count": null,
   "metadata": {},
   "outputs": [],
   "source": []
  }
 ]
}