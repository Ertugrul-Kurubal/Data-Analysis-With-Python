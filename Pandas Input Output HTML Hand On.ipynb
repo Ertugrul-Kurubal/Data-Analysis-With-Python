{
 "metadata": {
  "language_info": {
   "codemirror_mode": {
    "name": "ipython",
    "version": 3
   },
   "file_extension": ".py",
   "mimetype": "text/x-python",
   "name": "python",
   "nbconvert_exporter": "python",
   "pygments_lexer": "ipython3",
   "version": "3.9.0-final"
  },
  "orig_nbformat": 2,
  "kernelspec": {
   "name": "python3",
   "display_name": "Python 3.9.0 64-bit",
   "metadata": {
    "interpreter": {
     "hash": "43a9cd95aa030499ef934e4da31e07dde54f3fc3a1fd0cc4aeef7f16459ee2ac"
    }
   }
  }
 },
 "nbformat": 4,
 "nbformat_minor": 2,
 "cells": [
  {
   "cell_type": "code",
   "execution_count": 1,
   "metadata": {},
   "outputs": [],
   "source": [
    "import pandas as pd # pip install lxml"
   ]
  },
  {
   "cell_type": "code",
   "execution_count": 2,
   "metadata": {},
   "outputs": [],
   "source": [
    "url = \"https://en.wikipedia.org/wiki/World_population\""
   ]
  },
  {
   "cell_type": "code",
   "execution_count": 5,
   "metadata": {},
   "outputs": [],
   "source": [
    "tables = pd.read_html(url)"
   ]
  },
  {
   "cell_type": "code",
   "execution_count": 6,
   "metadata": {},
   "outputs": [
    {
     "output_type": "execute_result",
     "data": {
      "text/plain": [
       "26"
      ]
     },
     "metadata": {},
     "execution_count": 6
    }
   ],
   "source": [
    "len(tables)"
   ]
  },
  {
   "cell_type": "code",
   "execution_count": 43,
   "metadata": {},
   "outputs": [
    {
     "output_type": "execute_result",
     "data": {
      "text/plain": [
       "        World population (millions, UN estimates)[14]  \\\n",
       "                                                    #   \n",
       "0                                                   1   \n",
       "1                                                   2   \n",
       "2                                                   3   \n",
       "3                                                   4   \n",
       "4                                                   5   \n",
       "5                                                   6   \n",
       "6                                                   7   \n",
       "7                                                   8   \n",
       "8                                                   9   \n",
       "9                                                  10   \n",
       "10                                                NaN   \n",
       "11  Notes: .mw-parser-output .reflist{font-size:90...   \n",
       "\n",
       "                                                       \\\n",
       "                      Top ten most populous countries   \n",
       "0                                            China[B]   \n",
       "1                                               India   \n",
       "2                                       United States   \n",
       "3                                           Indonesia   \n",
       "4                                            Pakistan   \n",
       "5                                              Brazil   \n",
       "6                                             Nigeria   \n",
       "7                                          Bangladesh   \n",
       "8                                              Russia   \n",
       "9                                              Mexico   \n",
       "10                                        World total   \n",
       "11  Notes: .mw-parser-output .reflist{font-size:90...   \n",
       "\n",
       "                                                       \\\n",
       "                                                 2000   \n",
       "0                                                1270   \n",
       "1                                                1053   \n",
       "2                                                 283   \n",
       "3                                                 212   \n",
       "4                                                 136   \n",
       "5                                                 176   \n",
       "6                                                 123   \n",
       "7                                                 131   \n",
       "8                                                 146   \n",
       "9                                                 103   \n",
       "10                                               6127   \n",
       "11  Notes: .mw-parser-output .reflist{font-size:90...   \n",
       "\n",
       "                                                       \\\n",
       "                                                 2015   \n",
       "0                                                1376   \n",
       "1                                                1311   \n",
       "2                                                 322   \n",
       "3                                                 258   \n",
       "4                                                 208   \n",
       "5                                                 206   \n",
       "6                                                 182   \n",
       "7                                                 161   \n",
       "8                                                 146   \n",
       "9                                                 127   \n",
       "10                                               7349   \n",
       "11  Notes: .mw-parser-output .reflist{font-size:90...   \n",
       "\n",
       "                                                       \n",
       "                                              2030[A]  \n",
       "0                                                1416  \n",
       "1                                                1528  \n",
       "2                                                 356  \n",
       "3                                                 295  \n",
       "4                                                 245  \n",
       "5                                                 228  \n",
       "6                                                 263  \n",
       "7                                                 186  \n",
       "8                                                 149  \n",
       "9                                                 148  \n",
       "10                                               8501  \n",
       "11  Notes: .mw-parser-output .reflist{font-size:90...  "
      ],
      "text/html": "<div>\n<style scoped>\n    .dataframe tbody tr th:only-of-type {\n        vertical-align: middle;\n    }\n\n    .dataframe tbody tr th {\n        vertical-align: top;\n    }\n\n    .dataframe thead tr th {\n        text-align: left;\n    }\n</style>\n<table border=\"1\" class=\"dataframe\">\n  <thead>\n    <tr>\n      <th></th>\n      <th colspan=\"5\" halign=\"left\">World population (millions, UN estimates)[14]</th>\n    </tr>\n    <tr>\n      <th></th>\n      <th>#</th>\n      <th>Top ten most populous countries</th>\n      <th>2000</th>\n      <th>2015</th>\n      <th>2030[A]</th>\n    </tr>\n  </thead>\n  <tbody>\n    <tr>\n      <th>0</th>\n      <td>1</td>\n      <td>China[B]</td>\n      <td>1270</td>\n      <td>1376</td>\n      <td>1416</td>\n    </tr>\n    <tr>\n      <th>1</th>\n      <td>2</td>\n      <td>India</td>\n      <td>1053</td>\n      <td>1311</td>\n      <td>1528</td>\n    </tr>\n    <tr>\n      <th>2</th>\n      <td>3</td>\n      <td>United States</td>\n      <td>283</td>\n      <td>322</td>\n      <td>356</td>\n    </tr>\n    <tr>\n      <th>3</th>\n      <td>4</td>\n      <td>Indonesia</td>\n      <td>212</td>\n      <td>258</td>\n      <td>295</td>\n    </tr>\n    <tr>\n      <th>4</th>\n      <td>5</td>\n      <td>Pakistan</td>\n      <td>136</td>\n      <td>208</td>\n      <td>245</td>\n    </tr>\n    <tr>\n      <th>5</th>\n      <td>6</td>\n      <td>Brazil</td>\n      <td>176</td>\n      <td>206</td>\n      <td>228</td>\n    </tr>\n    <tr>\n      <th>6</th>\n      <td>7</td>\n      <td>Nigeria</td>\n      <td>123</td>\n      <td>182</td>\n      <td>263</td>\n    </tr>\n    <tr>\n      <th>7</th>\n      <td>8</td>\n      <td>Bangladesh</td>\n      <td>131</td>\n      <td>161</td>\n      <td>186</td>\n    </tr>\n    <tr>\n      <th>8</th>\n      <td>9</td>\n      <td>Russia</td>\n      <td>146</td>\n      <td>146</td>\n      <td>149</td>\n    </tr>\n    <tr>\n      <th>9</th>\n      <td>10</td>\n      <td>Mexico</td>\n      <td>103</td>\n      <td>127</td>\n      <td>148</td>\n    </tr>\n    <tr>\n      <th>10</th>\n      <td>NaN</td>\n      <td>World total</td>\n      <td>6127</td>\n      <td>7349</td>\n      <td>8501</td>\n    </tr>\n    <tr>\n      <th>11</th>\n      <td>Notes: .mw-parser-output .reflist{font-size:90...</td>\n      <td>Notes: .mw-parser-output .reflist{font-size:90...</td>\n      <td>Notes: .mw-parser-output .reflist{font-size:90...</td>\n      <td>Notes: .mw-parser-output .reflist{font-size:90...</td>\n      <td>Notes: .mw-parser-output .reflist{font-size:90...</td>\n    </tr>\n  </tbody>\n</table>\n</div>"
     },
     "metadata": {},
     "execution_count": 43
    }
   ],
   "source": [
    "tables[0]"
   ]
  },
  {
   "cell_type": "code",
   "execution_count": 8,
   "metadata": {},
   "outputs": [
    {
     "output_type": "execute_result",
     "data": {
      "text/plain": [
       "                  Continent Density(inhabitants/km2) Population(millions)  \\\n",
       "0                      Asia                    104.1                 4641   \n",
       "1                    Africa                     44.4                 1340   \n",
       "2                    Europe                     73.4                  747   \n",
       "3             Latin America                     24.1                  653   \n",
       "4  Northern America[note 2]                     14.9                  368   \n",
       "5                   Oceania                        5                   42   \n",
       "6                Antarctica                       ~0            0.004[16]   \n",
       "\n",
       "                               Most populous country  \\\n",
       "0                      1,439,323,000[note 1] – China   \n",
       "1                             0206,139,000 – Nigeria   \n",
       "2  0145,934,000 – Russia;approx. 110 million in E...   \n",
       "3                              0212,559,000 – Brazil   \n",
       "4                       0331,002,000 – United States   \n",
       "5                           0025,499,000 – Australia   \n",
       "6                                        N/A[note 3]   \n",
       "\n",
       "              Most populous city (metropolitan area)  \n",
       "0  37,393,000/13,929,000 – Greater Tokyo Area/Tok...  \n",
       "1                             20,900,000 – Cairo[17]  \n",
       "2  16,855,000/12,537,000 – Moscow metropolitan ar...  \n",
       "3  22,043,000/12,176,000 – São Paulo Metro Area/S...  \n",
       "4  23,724,000/8,323,000 – New York metropolitan a...  \n",
       "5                                 4,925,000 – Sydney  \n",
       "6                            1,258 – McMurdo Station  "
      ],
      "text/html": "<div>\n<style scoped>\n    .dataframe tbody tr th:only-of-type {\n        vertical-align: middle;\n    }\n\n    .dataframe tbody tr th {\n        vertical-align: top;\n    }\n\n    .dataframe thead th {\n        text-align: right;\n    }\n</style>\n<table border=\"1\" class=\"dataframe\">\n  <thead>\n    <tr style=\"text-align: right;\">\n      <th></th>\n      <th>Continent</th>\n      <th>Density(inhabitants/km2)</th>\n      <th>Population(millions)</th>\n      <th>Most populous country</th>\n      <th>Most populous city (metropolitan area)</th>\n    </tr>\n  </thead>\n  <tbody>\n    <tr>\n      <th>0</th>\n      <td>Asia</td>\n      <td>104.1</td>\n      <td>4641</td>\n      <td>1,439,323,000[note 1] – China</td>\n      <td>37,393,000/13,929,000 – Greater Tokyo Area/Tok...</td>\n    </tr>\n    <tr>\n      <th>1</th>\n      <td>Africa</td>\n      <td>44.4</td>\n      <td>1340</td>\n      <td>0206,139,000 – Nigeria</td>\n      <td>20,900,000 – Cairo[17]</td>\n    </tr>\n    <tr>\n      <th>2</th>\n      <td>Europe</td>\n      <td>73.4</td>\n      <td>747</td>\n      <td>0145,934,000 – Russia;approx. 110 million in E...</td>\n      <td>16,855,000/12,537,000 – Moscow metropolitan ar...</td>\n    </tr>\n    <tr>\n      <th>3</th>\n      <td>Latin America</td>\n      <td>24.1</td>\n      <td>653</td>\n      <td>0212,559,000 – Brazil</td>\n      <td>22,043,000/12,176,000 – São Paulo Metro Area/S...</td>\n    </tr>\n    <tr>\n      <th>4</th>\n      <td>Northern America[note 2]</td>\n      <td>14.9</td>\n      <td>368</td>\n      <td>0331,002,000 – United States</td>\n      <td>23,724,000/8,323,000 – New York metropolitan a...</td>\n    </tr>\n    <tr>\n      <th>5</th>\n      <td>Oceania</td>\n      <td>5</td>\n      <td>42</td>\n      <td>0025,499,000 – Australia</td>\n      <td>4,925,000 – Sydney</td>\n    </tr>\n    <tr>\n      <th>6</th>\n      <td>Antarctica</td>\n      <td>~0</td>\n      <td>0.004[16]</td>\n      <td>N/A[note 3]</td>\n      <td>1,258 – McMurdo Station</td>\n    </tr>\n  </tbody>\n</table>\n</div>"
     },
     "metadata": {},
     "execution_count": 8
    }
   ],
   "source": [
    "tables[1]"
   ]
  },
  {
   "cell_type": "code",
   "execution_count": 9,
   "metadata": {},
   "outputs": [
    {
     "output_type": "execute_result",
     "data": {
      "text/plain": [
       "Index(['Continent', 'Density(inhabitants/km2)', 'Population(millions)',\n",
       "       'Most populous country', 'Most populous city (metropolitan area)'],\n",
       "      dtype='object')"
      ]
     },
     "metadata": {},
     "execution_count": 9
    }
   ],
   "source": [
    "tables[1].columns"
   ]
  },
  {
   "cell_type": "code",
   "execution_count": 58,
   "metadata": {},
   "outputs": [],
   "source": [
    "world_topten = tables[1]"
   ]
  },
  {
   "cell_type": "code",
   "execution_count": 59,
   "metadata": {},
   "outputs": [
    {
     "output_type": "execute_result",
     "data": {
      "text/plain": [
       "                  Continent Density(inhabitants/km2) Population(millions)  \\\n",
       "0                      Asia                    104.1                 4641   \n",
       "1                    Africa                     44.4                 1340   \n",
       "2                    Europe                     73.4                  747   \n",
       "3             Latin America                     24.1                  653   \n",
       "4  Northern America[note 2]                     14.9                  368   \n",
       "5                   Oceania                        5                   42   \n",
       "6                Antarctica                       ~0            0.004[16]   \n",
       "\n",
       "                               Most populous country  \\\n",
       "0                      1,439,323,000[note 1] – China   \n",
       "1                             0206,139,000 – Nigeria   \n",
       "2  0145,934,000 – Russia;approx. 110 million in E...   \n",
       "3                              0212,559,000 – Brazil   \n",
       "4                       0331,002,000 – United States   \n",
       "5                           0025,499,000 – Australia   \n",
       "6                                        N/A[note 3]   \n",
       "\n",
       "              Most populous city (metropolitan area)  \n",
       "0  37,393,000/13,929,000 – Greater Tokyo Area/Tok...  \n",
       "1                             20,900,000 – Cairo[17]  \n",
       "2  16,855,000/12,537,000 – Moscow metropolitan ar...  \n",
       "3  22,043,000/12,176,000 – São Paulo Metro Area/S...  \n",
       "4  23,724,000/8,323,000 – New York metropolitan a...  \n",
       "5                                 4,925,000 – Sydney  \n",
       "6                            1,258 – McMurdo Station  "
      ],
      "text/html": "<div>\n<style scoped>\n    .dataframe tbody tr th:only-of-type {\n        vertical-align: middle;\n    }\n\n    .dataframe tbody tr th {\n        vertical-align: top;\n    }\n\n    .dataframe thead th {\n        text-align: right;\n    }\n</style>\n<table border=\"1\" class=\"dataframe\">\n  <thead>\n    <tr style=\"text-align: right;\">\n      <th></th>\n      <th>Continent</th>\n      <th>Density(inhabitants/km2)</th>\n      <th>Population(millions)</th>\n      <th>Most populous country</th>\n      <th>Most populous city (metropolitan area)</th>\n    </tr>\n  </thead>\n  <tbody>\n    <tr>\n      <th>0</th>\n      <td>Asia</td>\n      <td>104.1</td>\n      <td>4641</td>\n      <td>1,439,323,000[note 1] – China</td>\n      <td>37,393,000/13,929,000 – Greater Tokyo Area/Tok...</td>\n    </tr>\n    <tr>\n      <th>1</th>\n      <td>Africa</td>\n      <td>44.4</td>\n      <td>1340</td>\n      <td>0206,139,000 – Nigeria</td>\n      <td>20,900,000 – Cairo[17]</td>\n    </tr>\n    <tr>\n      <th>2</th>\n      <td>Europe</td>\n      <td>73.4</td>\n      <td>747</td>\n      <td>0145,934,000 – Russia;approx. 110 million in E...</td>\n      <td>16,855,000/12,537,000 – Moscow metropolitan ar...</td>\n    </tr>\n    <tr>\n      <th>3</th>\n      <td>Latin America</td>\n      <td>24.1</td>\n      <td>653</td>\n      <td>0212,559,000 – Brazil</td>\n      <td>22,043,000/12,176,000 – São Paulo Metro Area/S...</td>\n    </tr>\n    <tr>\n      <th>4</th>\n      <td>Northern America[note 2]</td>\n      <td>14.9</td>\n      <td>368</td>\n      <td>0331,002,000 – United States</td>\n      <td>23,724,000/8,323,000 – New York metropolitan a...</td>\n    </tr>\n    <tr>\n      <th>5</th>\n      <td>Oceania</td>\n      <td>5</td>\n      <td>42</td>\n      <td>0025,499,000 – Australia</td>\n      <td>4,925,000 – Sydney</td>\n    </tr>\n    <tr>\n      <th>6</th>\n      <td>Antarctica</td>\n      <td>~0</td>\n      <td>0.004[16]</td>\n      <td>N/A[note 3]</td>\n      <td>1,258 – McMurdo Station</td>\n    </tr>\n  </tbody>\n</table>\n</div>"
     },
     "metadata": {},
     "execution_count": 59
    }
   ],
   "source": [
    "world_topten"
   ]
  },
  {
   "cell_type": "code",
   "execution_count": 60,
   "metadata": {},
   "outputs": [],
   "source": [
    "world_topten = world_topten.drop(4, axis=0)"
   ]
  },
  {
   "cell_type": "code",
   "execution_count": 51,
   "metadata": {},
   "outputs": [
    {
     "output_type": "execute_result",
     "data": {
      "text/plain": [
       "       Continent Density(inhabitants/km2) Population(millions)  \\\n",
       "0           Asia                    104.1                 4641   \n",
       "1         Africa                     44.4                 1340   \n",
       "2         Europe                     73.4                  747   \n",
       "3  Latin America                     24.1                  653   \n",
       "5        Oceania                        5                   42   \n",
       "6     Antarctica                       ~0            0.004[16]   \n",
       "\n",
       "                               Most populous country  \\\n",
       "0                      1,439,323,000[note 1] – China   \n",
       "1                             0206,139,000 – Nigeria   \n",
       "2  0145,934,000 – Russia;approx. 110 million in E...   \n",
       "3                              0212,559,000 – Brazil   \n",
       "5                           0025,499,000 – Australia   \n",
       "6                                        N/A[note 3]   \n",
       "\n",
       "              Most populous city (metropolitan area)  \n",
       "0  37,393,000/13,929,000 – Greater Tokyo Area/Tok...  \n",
       "1                             20,900,000 – Cairo[17]  \n",
       "2  16,855,000/12,537,000 – Moscow metropolitan ar...  \n",
       "3  22,043,000/12,176,000 – São Paulo Metro Area/S...  \n",
       "5                                 4,925,000 – Sydney  \n",
       "6                            1,258 – McMurdo Station  "
      ],
      "text/html": "<div>\n<style scoped>\n    .dataframe tbody tr th:only-of-type {\n        vertical-align: middle;\n    }\n\n    .dataframe tbody tr th {\n        vertical-align: top;\n    }\n\n    .dataframe thead th {\n        text-align: right;\n    }\n</style>\n<table border=\"1\" class=\"dataframe\">\n  <thead>\n    <tr style=\"text-align: right;\">\n      <th></th>\n      <th>Continent</th>\n      <th>Density(inhabitants/km2)</th>\n      <th>Population(millions)</th>\n      <th>Most populous country</th>\n      <th>Most populous city (metropolitan area)</th>\n    </tr>\n  </thead>\n  <tbody>\n    <tr>\n      <th>0</th>\n      <td>Asia</td>\n      <td>104.1</td>\n      <td>4641</td>\n      <td>1,439,323,000[note 1] – China</td>\n      <td>37,393,000/13,929,000 – Greater Tokyo Area/Tok...</td>\n    </tr>\n    <tr>\n      <th>1</th>\n      <td>Africa</td>\n      <td>44.4</td>\n      <td>1340</td>\n      <td>0206,139,000 – Nigeria</td>\n      <td>20,900,000 – Cairo[17]</td>\n    </tr>\n    <tr>\n      <th>2</th>\n      <td>Europe</td>\n      <td>73.4</td>\n      <td>747</td>\n      <td>0145,934,000 – Russia;approx. 110 million in E...</td>\n      <td>16,855,000/12,537,000 – Moscow metropolitan ar...</td>\n    </tr>\n    <tr>\n      <th>3</th>\n      <td>Latin America</td>\n      <td>24.1</td>\n      <td>653</td>\n      <td>0212,559,000 – Brazil</td>\n      <td>22,043,000/12,176,000 – São Paulo Metro Area/S...</td>\n    </tr>\n    <tr>\n      <th>5</th>\n      <td>Oceania</td>\n      <td>5</td>\n      <td>42</td>\n      <td>0025,499,000 – Australia</td>\n      <td>4,925,000 – Sydney</td>\n    </tr>\n    <tr>\n      <th>6</th>\n      <td>Antarctica</td>\n      <td>~0</td>\n      <td>0.004[16]</td>\n      <td>N/A[note 3]</td>\n      <td>1,258 – McMurdo Station</td>\n    </tr>\n  </tbody>\n</table>\n</div>"
     },
     "metadata": {},
     "execution_count": 51
    }
   ],
   "source": [
    "world_topten"
   ]
  },
  {
   "cell_type": "code",
   "execution_count": 61,
   "metadata": {},
   "outputs": [],
   "source": [
    "world_topten.columns = [\"Contin\",\"Den\",\"Pop\",\"Most Pop Con\",\"Met\"]"
   ]
  },
  {
   "cell_type": "code",
   "execution_count": 62,
   "metadata": {},
   "outputs": [
    {
     "output_type": "execute_result",
     "data": {
      "text/plain": [
       "          Contin    Den        Pop  \\\n",
       "0           Asia  104.1       4641   \n",
       "1         Africa   44.4       1340   \n",
       "2         Europe   73.4        747   \n",
       "3  Latin America   24.1        653   \n",
       "5        Oceania      5         42   \n",
       "6     Antarctica     ~0  0.004[16]   \n",
       "\n",
       "                                        Most Pop Con  \\\n",
       "0                      1,439,323,000[note 1] – China   \n",
       "1                             0206,139,000 – Nigeria   \n",
       "2  0145,934,000 – Russia;approx. 110 million in E...   \n",
       "3                              0212,559,000 – Brazil   \n",
       "5                           0025,499,000 – Australia   \n",
       "6                                        N/A[note 3]   \n",
       "\n",
       "                                                 Met  \n",
       "0  37,393,000/13,929,000 – Greater Tokyo Area/Tok...  \n",
       "1                             20,900,000 – Cairo[17]  \n",
       "2  16,855,000/12,537,000 – Moscow metropolitan ar...  \n",
       "3  22,043,000/12,176,000 – São Paulo Metro Area/S...  \n",
       "5                                 4,925,000 – Sydney  \n",
       "6                            1,258 – McMurdo Station  "
      ],
      "text/html": "<div>\n<style scoped>\n    .dataframe tbody tr th:only-of-type {\n        vertical-align: middle;\n    }\n\n    .dataframe tbody tr th {\n        vertical-align: top;\n    }\n\n    .dataframe thead th {\n        text-align: right;\n    }\n</style>\n<table border=\"1\" class=\"dataframe\">\n  <thead>\n    <tr style=\"text-align: right;\">\n      <th></th>\n      <th>Contin</th>\n      <th>Den</th>\n      <th>Pop</th>\n      <th>Most Pop Con</th>\n      <th>Met</th>\n    </tr>\n  </thead>\n  <tbody>\n    <tr>\n      <th>0</th>\n      <td>Asia</td>\n      <td>104.1</td>\n      <td>4641</td>\n      <td>1,439,323,000[note 1] – China</td>\n      <td>37,393,000/13,929,000 – Greater Tokyo Area/Tok...</td>\n    </tr>\n    <tr>\n      <th>1</th>\n      <td>Africa</td>\n      <td>44.4</td>\n      <td>1340</td>\n      <td>0206,139,000 – Nigeria</td>\n      <td>20,900,000 – Cairo[17]</td>\n    </tr>\n    <tr>\n      <th>2</th>\n      <td>Europe</td>\n      <td>73.4</td>\n      <td>747</td>\n      <td>0145,934,000 – Russia;approx. 110 million in E...</td>\n      <td>16,855,000/12,537,000 – Moscow metropolitan ar...</td>\n    </tr>\n    <tr>\n      <th>3</th>\n      <td>Latin America</td>\n      <td>24.1</td>\n      <td>653</td>\n      <td>0212,559,000 – Brazil</td>\n      <td>22,043,000/12,176,000 – São Paulo Metro Area/S...</td>\n    </tr>\n    <tr>\n      <th>5</th>\n      <td>Oceania</td>\n      <td>5</td>\n      <td>42</td>\n      <td>0025,499,000 – Australia</td>\n      <td>4,925,000 – Sydney</td>\n    </tr>\n    <tr>\n      <th>6</th>\n      <td>Antarctica</td>\n      <td>~0</td>\n      <td>0.004[16]</td>\n      <td>N/A[note 3]</td>\n      <td>1,258 – McMurdo Station</td>\n    </tr>\n  </tbody>\n</table>\n</div>"
     },
     "metadata": {},
     "execution_count": 62
    }
   ],
   "source": [
    "world_topten"
   ]
  },
  {
   "cell_type": "code",
   "execution_count": 63,
   "metadata": {},
   "outputs": [
    {
     "output_type": "execute_result",
     "data": {
      "text/plain": [
       "   Rank         Country  Population  Area(km2)  Density(pop/km2)  \\\n",
       "0     1           India  1374470000    3287240               418   \n",
       "1     2        Pakistan   222950000     803940               277   \n",
       "2     3      Bangladesh   170320000     143998              1183   \n",
       "3     4           Japan   126010000     377873               333   \n",
       "4     5     Philippines   109950000     300000               367   \n",
       "5     6         Vietnam    96209000     331689               290   \n",
       "6     7  United Kingdom    66436000     243610               273   \n",
       "7     8     South Korea    51781000      99538               520   \n",
       "8     9          Taiwan    23604000      36193               652   \n",
       "9    10       Sri Lanka    21803000      65610               332   \n",
       "\n",
       "  Population trend  \n",
       "0          Growing  \n",
       "1          Growing  \n",
       "2  Rapidly growing  \n",
       "3    Declining[98]  \n",
       "4          Growing  \n",
       "5          Growing  \n",
       "6           Steady  \n",
       "7           Steady  \n",
       "8           Steady  \n",
       "9          Growing  "
      ],
      "text/html": "<div>\n<style scoped>\n    .dataframe tbody tr th:only-of-type {\n        vertical-align: middle;\n    }\n\n    .dataframe tbody tr th {\n        vertical-align: top;\n    }\n\n    .dataframe thead th {\n        text-align: right;\n    }\n</style>\n<table border=\"1\" class=\"dataframe\">\n  <thead>\n    <tr style=\"text-align: right;\">\n      <th></th>\n      <th>Rank</th>\n      <th>Country</th>\n      <th>Population</th>\n      <th>Area(km2)</th>\n      <th>Density(pop/km2)</th>\n      <th>Population trend</th>\n    </tr>\n  </thead>\n  <tbody>\n    <tr>\n      <th>0</th>\n      <td>1</td>\n      <td>India</td>\n      <td>1374470000</td>\n      <td>3287240</td>\n      <td>418</td>\n      <td>Growing</td>\n    </tr>\n    <tr>\n      <th>1</th>\n      <td>2</td>\n      <td>Pakistan</td>\n      <td>222950000</td>\n      <td>803940</td>\n      <td>277</td>\n      <td>Growing</td>\n    </tr>\n    <tr>\n      <th>2</th>\n      <td>3</td>\n      <td>Bangladesh</td>\n      <td>170320000</td>\n      <td>143998</td>\n      <td>1183</td>\n      <td>Rapidly growing</td>\n    </tr>\n    <tr>\n      <th>3</th>\n      <td>4</td>\n      <td>Japan</td>\n      <td>126010000</td>\n      <td>377873</td>\n      <td>333</td>\n      <td>Declining[98]</td>\n    </tr>\n    <tr>\n      <th>4</th>\n      <td>5</td>\n      <td>Philippines</td>\n      <td>109950000</td>\n      <td>300000</td>\n      <td>367</td>\n      <td>Growing</td>\n    </tr>\n    <tr>\n      <th>5</th>\n      <td>6</td>\n      <td>Vietnam</td>\n      <td>96209000</td>\n      <td>331689</td>\n      <td>290</td>\n      <td>Growing</td>\n    </tr>\n    <tr>\n      <th>6</th>\n      <td>7</td>\n      <td>United Kingdom</td>\n      <td>66436000</td>\n      <td>243610</td>\n      <td>273</td>\n      <td>Steady</td>\n    </tr>\n    <tr>\n      <th>7</th>\n      <td>8</td>\n      <td>South Korea</td>\n      <td>51781000</td>\n      <td>99538</td>\n      <td>520</td>\n      <td>Steady</td>\n    </tr>\n    <tr>\n      <th>8</th>\n      <td>9</td>\n      <td>Taiwan</td>\n      <td>23604000</td>\n      <td>36193</td>\n      <td>652</td>\n      <td>Steady</td>\n    </tr>\n    <tr>\n      <th>9</th>\n      <td>10</td>\n      <td>Sri Lanka</td>\n      <td>21803000</td>\n      <td>65610</td>\n      <td>332</td>\n      <td>Growing</td>\n    </tr>\n  </tbody>\n</table>\n</div>"
     },
     "metadata": {},
     "execution_count": 63
    }
   ],
   "source": [
    "tables[6]"
   ]
  },
  {
   "cell_type": "code",
   "execution_count": 64,
   "metadata": {},
   "outputs": [
    {
     "output_type": "execute_result",
     "data": {
      "text/plain": [
       "             Country  Population  Area(km2)  Density(pop/km2) Population trend\n",
       "Rank                                                                          \n",
       "1              India  1374470000    3287240               418          Growing\n",
       "2           Pakistan   222950000     803940               277          Growing\n",
       "3         Bangladesh   170320000     143998              1183  Rapidly growing\n",
       "4              Japan   126010000     377873               333    Declining[98]\n",
       "5        Philippines   109950000     300000               367          Growing\n",
       "6            Vietnam    96209000     331689               290          Growing\n",
       "7     United Kingdom    66436000     243610               273           Steady\n",
       "8        South Korea    51781000      99538               520           Steady\n",
       "9             Taiwan    23604000      36193               652           Steady\n",
       "10         Sri Lanka    21803000      65610               332          Growing"
      ],
      "text/html": "<div>\n<style scoped>\n    .dataframe tbody tr th:only-of-type {\n        vertical-align: middle;\n    }\n\n    .dataframe tbody tr th {\n        vertical-align: top;\n    }\n\n    .dataframe thead th {\n        text-align: right;\n    }\n</style>\n<table border=\"1\" class=\"dataframe\">\n  <thead>\n    <tr style=\"text-align: right;\">\n      <th></th>\n      <th>Country</th>\n      <th>Population</th>\n      <th>Area(km2)</th>\n      <th>Density(pop/km2)</th>\n      <th>Population trend</th>\n    </tr>\n    <tr>\n      <th>Rank</th>\n      <th></th>\n      <th></th>\n      <th></th>\n      <th></th>\n      <th></th>\n    </tr>\n  </thead>\n  <tbody>\n    <tr>\n      <th>1</th>\n      <td>India</td>\n      <td>1374470000</td>\n      <td>3287240</td>\n      <td>418</td>\n      <td>Growing</td>\n    </tr>\n    <tr>\n      <th>2</th>\n      <td>Pakistan</td>\n      <td>222950000</td>\n      <td>803940</td>\n      <td>277</td>\n      <td>Growing</td>\n    </tr>\n    <tr>\n      <th>3</th>\n      <td>Bangladesh</td>\n      <td>170320000</td>\n      <td>143998</td>\n      <td>1183</td>\n      <td>Rapidly growing</td>\n    </tr>\n    <tr>\n      <th>4</th>\n      <td>Japan</td>\n      <td>126010000</td>\n      <td>377873</td>\n      <td>333</td>\n      <td>Declining[98]</td>\n    </tr>\n    <tr>\n      <th>5</th>\n      <td>Philippines</td>\n      <td>109950000</td>\n      <td>300000</td>\n      <td>367</td>\n      <td>Growing</td>\n    </tr>\n    <tr>\n      <th>6</th>\n      <td>Vietnam</td>\n      <td>96209000</td>\n      <td>331689</td>\n      <td>290</td>\n      <td>Growing</td>\n    </tr>\n    <tr>\n      <th>7</th>\n      <td>United Kingdom</td>\n      <td>66436000</td>\n      <td>243610</td>\n      <td>273</td>\n      <td>Steady</td>\n    </tr>\n    <tr>\n      <th>8</th>\n      <td>South Korea</td>\n      <td>51781000</td>\n      <td>99538</td>\n      <td>520</td>\n      <td>Steady</td>\n    </tr>\n    <tr>\n      <th>9</th>\n      <td>Taiwan</td>\n      <td>23604000</td>\n      <td>36193</td>\n      <td>652</td>\n      <td>Steady</td>\n    </tr>\n    <tr>\n      <th>10</th>\n      <td>Sri Lanka</td>\n      <td>21803000</td>\n      <td>65610</td>\n      <td>332</td>\n      <td>Growing</td>\n    </tr>\n  </tbody>\n</table>\n</div>"
     },
     "metadata": {},
     "execution_count": 64
    }
   ],
   "source": [
    "tables[6].set_index(\"Rank\")"
   ]
  },
  {
   "cell_type": "code",
   "execution_count": 65,
   "metadata": {},
   "outputs": [],
   "source": [
    "world_topten.to_html(\"sample_table.html\", index=False)"
   ]
  },
  {
   "cell_type": "code",
   "execution_count": null,
   "metadata": {},
   "outputs": [],
   "source": []
  }
 ]
}